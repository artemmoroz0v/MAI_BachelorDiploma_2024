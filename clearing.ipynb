{
 "cells": [
  {
   "cell_type": "code",
   "execution_count": 1,
   "metadata": {},
   "outputs": [],
   "source": [
    "import pandas as pd\n",
    "import numpy as np\n",
    "import string\n",
    "import re\n",
    "import math"
   ]
  },
  {
   "cell_type": "code",
   "execution_count": 30,
   "metadata": {},
   "outputs": [],
   "source": [
    "file_path = 'data/NIKO_data.xlsx'\n",
    "df = pd.read_excel(file_path)"
   ]
  },
  {
   "cell_type": "code",
   "execution_count": 31,
   "metadata": {},
   "outputs": [],
   "source": [
    "column_names = ['Number', 'Class', 'Sex', 'Rus', 'Math', 'Family', 'Pride', 'Traditions', 'Activities', 'Temp', 'Region', 'Sights', 'Improvements', 'Victories', 'Personality']\n",
    "df.columns = column_names\n",
    "df = df[['Number', 'Class', 'Sex', 'Rus', 'Math', 'Family', 'Traditions', 'Activities', 'Region', 'Sights', 'Victories', 'Personality']]\n",
    "temp = df.copy()"
   ]
  },
  {
   "cell_type": "code",
   "execution_count": 33,
   "metadata": {},
   "outputs": [],
   "source": [
    "federal_districts_mapping = {\n",
    "    'Центральный федеральный округ': ['Белгородская область', 'Брянская область', 'Владимирская область', 'Воронежская область', 'Калужская область', 'Костромская область', 'Курская область', 'Липецкая область', 'Орловская область', 'Рязанская область', 'Тамбовская область', 'Тверская область', 'Тульская область', 'Ярославская область'],\n",
    "    'Северо-Западный федеральный округ': ['г. Санкт-Петербург', 'Республика Карелия', 'Республика Коми', 'Калининградская область', 'Мурманская область', 'Ненецкий автономный округ'],\n",
    "    'Южный федеральный округ': ['Республика Калмыкия', 'Краснодарский край'],\n",
    "    'Северо-Кавказский федеральный округ': ['Республика Дагестан', 'Кабардино-Балкарская Республика', 'Республика Северная Осетия - Алания'],\n",
    "    'Приволжский федеральный округ': ['Республика Марий Эл', 'Республика Татарстан (Татарстан)', 'Удмуртская Республика', 'Кировская область', 'Нижегородская область', 'Пензенская область', 'Пермский край', 'Самарская область', 'Ульяновская область'],\n",
    "    'Уральский федеральный округ': ['Курганская область', 'Свердловская область', 'Тюменская область', 'Ямало-Ненецкий автономный округ'],\n",
    "    'Сибирский федеральный округ': ['Республика Алтай', 'Республика Тыва', 'Иркутская область', 'Кемеровская область', 'Новосибирская область', 'Омская область', 'Томская область'],\n",
    "    'Дальневосточный федеральный округ': ['Республика Бурятия', 'Республика Саха (Якутия)', 'Приморский край', 'Хабаровский край', 'Амурская область', 'Сахалинская область', 'Забайкальский край', 'Еврейская автономная область']\n",
    "}\n",
    "for federal_district, regions in federal_districts_mapping.items():\n",
    "    df.loc[df['Region'].isin(regions), 'Region'] = federal_district"
   ]
  },
  {
   "cell_type": "code",
   "execution_count": 34,
   "metadata": {},
   "outputs": [],
   "source": [
    "df = df.applymap(lambda x: ''.join(char for char in str(x) if char not in string.punctuation) if pd.notna(x) else x)\n",
    "df = df.applymap(lambda x: np.nan if isinstance(x, str) and not x.strip() else x)"
   ]
  },
  {
   "cell_type": "code",
   "execution_count": 35,
   "metadata": {},
   "outputs": [],
   "source": [
    "df = df[df.isnull().sum(axis=1) <= 2]"
   ]
  },
  {
   "cell_type": "code",
   "execution_count": 36,
   "metadata": {},
   "outputs": [],
   "source": [
    "df = df[df['Family'].apply(lambda x: isinstance(x, str) and any(char.isalpha() and not char.isascii() for char in x))]"
   ]
  },
  {
   "cell_type": "code",
   "execution_count": 37,
   "metadata": {},
   "outputs": [],
   "source": [
    "df = df[df['Traditions'].apply(lambda x: isinstance(x, str) and any(char.isalpha() and not char.isascii() for char in x))]"
   ]
  },
  {
   "cell_type": "code",
   "execution_count": 38,
   "metadata": {},
   "outputs": [],
   "source": [
    "df = df[df['Activities'].apply(lambda x: isinstance(x, str) and any(char.isalpha() and not char.isascii() for char in x))]"
   ]
  },
  {
   "cell_type": "code",
   "execution_count": 39,
   "metadata": {},
   "outputs": [],
   "source": [
    "df = df[df['Sights'].apply(lambda x: isinstance(x, str) and any(char.isalpha() and not char.isascii() for char in x))]"
   ]
  },
  {
   "cell_type": "code",
   "execution_count": 40,
   "metadata": {},
   "outputs": [],
   "source": [
    "df = df[df['Victories'].apply(lambda x: isinstance(x, str) and any(char.isalpha() and not char.isascii() for char in x))]"
   ]
  },
  {
   "cell_type": "code",
   "execution_count": 41,
   "metadata": {},
   "outputs": [],
   "source": [
    "df = df[df['Personality'].apply(lambda x: isinstance(x, str) and any(char.isalpha() and not char.isascii() for char in x))]"
   ]
  },
  {
   "cell_type": "code",
   "execution_count": 42,
   "metadata": {},
   "outputs": [],
   "source": [
    "df['Number'] = df['Number'].astype(int)\n",
    "df = pd.merge(temp, df, on='Number', how='inner')\n",
    "df = df.drop(df.columns[13:], axis=1)\n",
    "df = df.drop_duplicates(subset='Number')\n",
    "df = df.reset_index(drop=True)"
   ]
  },
  {
   "cell_type": "code",
   "execution_count": 45,
   "metadata": {},
   "outputs": [],
   "source": [
    "df = df[(df['Rus'] != 'нет отметки') & (df['Math'] != 'нет отметки')]\n",
    "df['Rus'] = df['Rus'].astype(int)\n",
    "df['Math'] = df['Math'].astype(int)"
   ]
  },
  {
   "cell_type": "code",
   "execution_count": 46,
   "metadata": {},
   "outputs": [],
   "source": [
    "df['Region'] = df['Region'].replace('Северо-Кавказский федеральный округ', 'Южный федеральный округ')\n",
    "df['Region'] = df['Region'].replace('Южный федеральный округ', 'Юг+Северный Кавказ')"
   ]
  },
  {
   "cell_type": "code",
   "execution_count": 47,
   "metadata": {},
   "outputs": [],
   "source": [
    "df.to_excel('clear_data.xlsx')"
   ]
  }
 ],
 "metadata": {
  "kernelspec": {
   "display_name": "Python 3",
   "language": "python",
   "name": "python3"
  },
  "language_info": {
   "codemirror_mode": {
    "name": "ipython",
    "version": 3
   },
   "file_extension": ".py",
   "mimetype": "text/x-python",
   "name": "python",
   "nbconvert_exporter": "python",
   "pygments_lexer": "ipython3",
   "version": "3.8.10"
  }
 },
 "nbformat": 4,
 "nbformat_minor": 2
}
